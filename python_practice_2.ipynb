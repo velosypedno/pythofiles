{
  "cells": [
    {
      "cell_type": "markdown",
      "metadata": {
        "id": "p9wwt0LZzNvn"
      },
      "source": [
        "# I. Змінні та памʼять."
      ]
    },
    {
      "cell_type": "markdown",
      "metadata": {
        "id": "HTJrrm95xSV9"
      },
      "source": [
        "1. Створити змінні, що посилаються на два цілих числа, що однакові за значенням, де значення належить проміжку від -5 до 256. Перевірте, чи будуть ці змінні рівні тільки за значенням або ж ще будуть посилатися на один і той самий обʼєкт в памʼяті? Наведіть код та дайте текстову відповідь нижче."
      ]
    },
    {
      "cell_type": "code",
      "execution_count": 2,
      "metadata": {
        "id": "TATni2vzayjG"
      },
      "outputs": [
        {
          "name": "stdout",
          "output_type": "stream",
          "text": [
            "Values are the same\n",
            "Cell in memory is one for both\n"
          ]
        }
      ],
      "source": [
        "first_int = 157\n",
        "second_int = 157\n",
        "if first_int == second_int:\n",
        "    print(\"Values are the same\")\n",
        "if first_int is second_int:\n",
        "    print(\"Cell in memory is one for both\")"
      ]
    },
    {
      "cell_type": "markdown",
      "metadata": {
        "id": "zfRG_o3WbRdg"
      },
      "source": [
        "Так і так"
      ]
    },
    {
      "cell_type": "markdown",
      "metadata": {
        "id": "ISORzt6M3vAt"
      },
      "source": [
        "2. За допомогою якої функції можна перевірити належність змінної до вказаного типу даних (напр. чи змінна True посилається на значення булевого та цілочисленого типу)?"
      ]
    },
    {
      "cell_type": "code",
      "execution_count": 3,
      "metadata": {
        "id": "9vL9CFaMbfyo"
      },
      "outputs": [
        {
          "name": "stdout",
          "output_type": "stream",
          "text": [
            "true(True) is instance of bool\n",
            "true(True) is instance of int\n"
          ]
        }
      ],
      "source": [
        "true = True\n",
        "if isinstance(true, bool):\n",
        "    print(f\"true({true}) is instance of bool\")\n",
        "if isinstance(true, int):\n",
        "    print(f\"true({true}) is instance of int\")"
      ]
    },
    {
      "cell_type": "markdown",
      "metadata": {
        "id": "tRxugKAxwYLw"
      },
      "source": [
        "# II. Цілі числа та числа з рухомою комою"
      ]
    },
    {
      "cell_type": "markdown",
      "metadata": {
        "id": "NLHkgd5Gybc8"
      },
      "source": [
        "3. Створити дві змінні, що посилаються на будь-які ціле число та число з рухомою комою та продемонструвати такі арифметичні операції: додавання, віднімання, ділення, множення, ділення без залишку, ділення по модулю, приведення до ступеню. Всі результати операцій вивести на екран."
      ]
    },
    {
      "cell_type": "code",
      "execution_count": 4,
      "metadata": {
        "id": "nb8u_3pjb2cA"
      },
      "outputs": [
        {
          "name": "stdout",
          "output_type": "stream",
          "text": [
            "best(3) - pi(3.14) = -0.14000000000000012\n",
            "best(3) + pi(3.14) = 6.140000000000001\n",
            "best(3) / pi(3.14) = 0.9554140127388535\n",
            "best(3) * pi(3.14) = 9.42\n",
            "best(3) // pi(3.14) = 0.0\n",
            "best(3) % pi(3.14) = 3.0\n",
            "best(3) ** pi(3.14) = 31.489135652454948\n"
          ]
        }
      ],
      "source": [
        "best = 3\n",
        "pi = 3.14\n",
        "print(f\"best({best}) - pi({pi}) =\", best - pi)\n",
        "print(f\"best({best}) + pi({pi}) =\", best + pi)\n",
        "print(f\"best({best}) / pi({pi}) =\", best / pi)\n",
        "print(f\"best({best}) * pi({pi}) =\", best * pi)\n",
        "print(f\"best({best}) // pi({pi}) =\", best // pi)\n",
        "print(f\"best({best}) % pi({pi}) =\", best % pi)\n",
        "print(f\"best({best}) ** pi({pi}) =\", best ** pi)"
      ]
    },
    {
      "cell_type": "markdown",
      "metadata": {
        "id": "1kBClKgPzZnC"
      },
      "source": [
        "4. Використовуючи змінні з вправи 3, продемонструйте механізм явного перетворення типів, де числа з рухомою комою перетворюються на цілі числа. Також визначте змінну, що посилається на значення булевого типу і спробуйте явно привести її до цілого числа."
      ]
    },
    {
      "cell_type": "code",
      "execution_count": 6,
      "metadata": {
        "id": "TbqJbkeUcKsD"
      },
      "outputs": [
        {
          "name": "stdout",
          "output_type": "stream",
          "text": [
            "pi = 3.14, int(pi) = 3\n",
            "false = False, int(false) = 0\n"
          ]
        }
      ],
      "source": [
        "false = False\n",
        "print(f\"pi = {pi}, int(pi) = {int(pi)}\")\n",
        "print(f\"false = {false}, int(false) = {int(false)}\")"
      ]
    },
    {
      "cell_type": "markdown",
      "metadata": {
        "id": "EVJ7AflwxrZi"
      },
      "source": [
        "# IІІ. Рядки (String)."
      ]
    },
    {
      "cell_type": "markdown",
      "metadata": {
        "id": "_s5ECzz9zE61"
      },
      "source": [
        "5. Створити пустий рядок двома різними способами."
      ]
    },
    {
      "cell_type": "code",
      "execution_count": 15,
      "metadata": {
        "id": "fkZJHu9Scvc-"
      },
      "outputs": [
        {
          "name": "stdout",
          "output_type": "stream",
          "text": [
            "s1='HAH', s2='HAH'\n"
          ]
        }
      ],
      "source": [
        "s1 = \"HAH\"\n",
        "s2 = str(\"HAH\")\n",
        "print(f\"{s1=}, {s2=}\")\n"
      ]
    },
    {
      "cell_type": "markdown",
      "metadata": {
        "id": "4Bdn9J3MzLf_"
      },
      "source": [
        "6. Створити рядок з апострофом. Зробити його сирим. Вивести обидва рядка на екран."
      ]
    },
    {
      "cell_type": "code",
      "execution_count": 16,
      "metadata": {
        "id": "ivji_hsmc0GH"
      },
      "outputs": [
        {
          "name": "stdout",
          "output_type": "stream",
          "text": [
            "normal=\"М'яч\", raw=\"М'яч\"\n"
          ]
        }
      ],
      "source": [
        "normal = \"М'яч\"\n",
        "raw = r\"М'яч\"\n",
        "print(f\"{normal=}, {raw=}\")"
      ]
    },
    {
      "cell_type": "markdown",
      "metadata": {
        "id": "bg_d8wM4z8dS"
      },
      "source": [
        "7. Створити змінну, що буде посилатися на Ваше прізвище латинкою. Створити форматований рядок, який буде мати вигляд \"My surname is ______\", де на місці нижніх підкреслень буде Ваше прізвище зі змінної."
      ]
    },
    {
      "cell_type": "code",
      "execution_count": 17,
      "metadata": {
        "id": "kuxFgpWndACq"
      },
      "outputs": [
        {
          "name": "stdout",
          "output_type": "stream",
          "text": [
            "My surname is Kliuchka\n"
          ]
        }
      ],
      "source": [
        "last_name = \"Kliuchka\"\n",
        "print(f\"My surname is {last_name}\")"
      ]
    },
    {
      "cell_type": "markdown",
      "metadata": {
        "id": "1Nc6RqvQ0hxU"
      },
      "source": [
        "8. Маючи рядок \"My dog is crazy.\" перетворити його на список [\"my\", \"dog\", \"is\", \"crazy\"]"
      ]
    },
    {
      "cell_type": "code",
      "execution_count": 18,
      "metadata": {
        "id": "w1Ya4RqedUhw"
      },
      "outputs": [
        {
          "name": "stdout",
          "output_type": "stream",
          "text": [
            "['my', 'dog', 'is', 'crazy']\n"
          ]
        }
      ],
      "source": [
        "s = \"My dog is crazy.\"\n",
        "print(s[:-1].lower().split())"
      ]
    },
    {
      "cell_type": "markdown",
      "metadata": {
        "id": "GYVqN9uP1D4n"
      },
      "source": [
        "# IV. Робота зі списками."
      ]
    },
    {
      "cell_type": "markdown",
      "metadata": {
        "id": "7-DeDunw2sO-"
      },
      "source": [
        "9. Створити список двома різними за синтаксисом способами. За допомогою вбудованої функції обчисліть довжину одного з них."
      ]
    },
    {
      "cell_type": "code",
      "execution_count": 20,
      "metadata": {
        "id": "zxg06Uuxdyoh"
      },
      "outputs": [
        {
          "name": "stdout",
          "output_type": "stream",
          "text": [
            "len(l2)=9\n"
          ]
        }
      ],
      "source": [
        "l1 = [1, 2, 4, 8, 16, 32, 64, 128, 0]\n",
        "l2 = list((\">\", \">\", \"+\", \"[\", \"+\", \".\", \"]\", \">\", \".\"))\n",
        "print(f\"{len(l2)=}\")"
      ]
    },
    {
      "cell_type": "markdown",
      "metadata": {
        "id": "8vmGUTjL22gI"
      },
      "source": [
        "10. Створіть два списка та за допомогою спеціального методу додайте другий з них в якості останнього елемента першого."
      ]
    },
    {
      "cell_type": "code",
      "execution_count": 22,
      "metadata": {
        "id": "uHtjWYw7d7hm"
      },
      "outputs": [
        {
          "name": "stdout",
          "output_type": "stream",
          "text": [
            "l_container=[[1], [2, 1], [3, 2, 1], [4, 3, 2, 1]]\n"
          ]
        }
      ],
      "source": [
        "l_container = [\n",
        "    [1],\n",
        "    [2, 1],\n",
        "    [3, 2, 1],\n",
        "]\n",
        "l_4 = [4, 3, 2, 1]\n",
        "l_container.append(l_4)\n",
        "print(f\"{l_container=}\")\n"
      ]
    },
    {
      "cell_type": "markdown",
      "metadata": {
        "id": "JC3BkD-67_--"
      },
      "source": [
        "11. Створіть список, де елементами цього списку також є списки. Отримай перший елемент з останнього рядка та виведи значення на екран."
      ]
    },
    {
      "cell_type": "code",
      "execution_count": 24,
      "metadata": {
        "id": "Kz2jZHsGeLlz"
      },
      "outputs": [
        {
          "name": "stdout",
          "output_type": "stream",
          "text": [
            "l_container=[[1], [2, 1], [3, 2, 1], [4, 3, 2, 1]]\n",
            "l_container[-1][0]=4\n"
          ]
        }
      ],
      "source": [
        "print(f\"{l_container=}\")\n",
        "print(f\"{l_container[-1][0]=}\")"
      ]
    },
    {
      "cell_type": "markdown",
      "metadata": {
        "id": "JA47PKTv8zFK"
      },
      "source": [
        "12. Створіть список з десяти елементів різного типу. Отримайте всі елементи, окрім двох перших та двох останніх та збережіть їх в новій змінній."
      ]
    },
    {
      "cell_type": "code",
      "execution_count": 27,
      "metadata": {
        "id": "_rHdUR-ueP4-"
      },
      "outputs": [
        {
          "name": "stdout",
          "output_type": "stream",
          "text": [
            "mess=[1, 9.7, True, {6}, (5, '6'), '555', {1: 1, 2: 2}, <function <lambda> at 0x76bc0808f560>]\n",
            "mess_2=[True, {6}, (5, '6'), '555']\n"
          ]
        }
      ],
      "source": [
        "mess = [1, 9.7, True, {6, 6}, (5, \"6\"), \"555\", {1: 1, 2: 2}, lambda x: x]\n",
        "mess_2 = mess[2:-2]\n",
        "print(f\"{mess=}\")\n",
        "print(f\"{mess_2=}\")"
      ]
    },
    {
      "cell_type": "markdown",
      "metadata": {
        "id": "pCjR1dJb1Qbi"
      },
      "source": [
        "# V. Робота з кортежами."
      ]
    },
    {
      "cell_type": "markdown",
      "metadata": {
        "id": "fAZCxAX06R_k"
      },
      "source": [
        "14. Створити кортеж з один елементом."
      ]
    },
    {
      "cell_type": "code",
      "execution_count": 28,
      "metadata": {
        "id": "H7d82WkQev3e"
      },
      "outputs": [
        {
          "name": "stdout",
          "output_type": "stream",
          "text": [
            "type(t)=<class 'tuple'>\n"
          ]
        }
      ],
      "source": [
        "t = (1,)\n",
        "print(f\"{type(t)=}\")"
      ]
    },
    {
      "cell_type": "markdown",
      "metadata": {
        "id": "8LCtYcmI6w1M"
      },
      "source": [
        "15. Порівняйте список та кортеж. Назвіть схожості та відмінності, випадки використання."
      ]
    },
    {
      "cell_type": "markdown",
      "metadata": {
        "id": "fUsN1Hnue0C6"
      },
      "source": [
        "список - змінний, займає більше пам'яті. Коли будемо змінювати.\n",
        "\n",
        "кортеж - незмінний, займаж менше пам'яті. Коли знаємо, що не буде необхідності змінювати"
      ]
    },
    {
      "cell_type": "markdown",
      "metadata": {
        "id": "m0xrwFijAmDD"
      },
      "source": [
        "16. Створіть кортеж з 11ти елементів чисел з рухомою комою та отримайте кожен парний за індексом елемент в зворотньому порядку. Наприклад, маючи (1.2, 2.3, 3.3, 4.3, 5.3, 6.3, 7.3, 8.3, 9.3, 0.3), отримати (0.3, 8.3, 6.3, 4.3, 2.3). Результат збережіть в нову змінну та виведіть на екран."
      ]
    },
    {
      "cell_type": "code",
      "execution_count": 37,
      "metadata": {
        "id": "p-5DAH6XfAGA"
      },
      "outputs": [
        {
          "name": "stdout",
          "output_type": "stream",
          "text": [
            "big_tuple=(1.3, 2.3, 3.3, 4.3, 5.3, 6.3, 7.3, 8.3, 9.3, 0.3, 1.3, 2.3)\n",
            "new_tuple=(2.3, 0.3, 8.3, 6.3, 4.3, 2.3)\n"
          ]
        }
      ],
      "source": [
        "big_tuple = tuple(round((x + 0.3) % 10, 1) for x in range(1, 13))\n",
        "print(f\"{big_tuple=}\")\n",
        "new_tuple = big_tuple[::-2]\n",
        "print(f\"{new_tuple=}\")"
      ]
    },
    {
      "cell_type": "markdown",
      "metadata": {},
      "source": []
    },
    {
      "cell_type": "markdown",
      "metadata": {
        "id": "rW_I9dt3x6cW"
      },
      "source": [
        "# VI. Множини (Set)."
      ]
    },
    {
      "cell_type": "markdown",
      "metadata": {
        "id": "zNjRLHLw1Bgg"
      },
      "source": [
        "17. Створити множину без елементів. Після цого за допомогою методу додайте кілька різних елементів до множини. Чи множини є змінним типом даних?"
      ]
    },
    {
      "cell_type": "code",
      "execution_count": 38,
      "metadata": {
        "id": "KOv7zc2Kfo4N"
      },
      "outputs": [
        {
          "name": "stdout",
          "output_type": "stream",
          "text": [
            "new_set={4, 2222222222222222222222222222222}\n"
          ]
        }
      ],
      "source": [
        "new_set = set()\n",
        "new_set.add(2222222222222222222222222222222)\n",
        "new_set.add(4)\n",
        "print(f\"{new_set=}\")"
      ]
    },
    {
      "cell_type": "markdown",
      "metadata": {
        "id": "vxS6dVYiftZQ"
      },
      "source": [
        "змінний тип"
      ]
    },
    {
      "cell_type": "markdown",
      "metadata": {
        "id": "gHpT0Zw_1HEF"
      },
      "source": [
        "18. Створити множину, маючи список my_list = [1, 1, 2, 67, 67, 8, 9]. Пояснити, чому \"зникли\" деякі елементи."
      ]
    },
    {
      "cell_type": "code",
      "execution_count": 40,
      "metadata": {
        "id": "qCN4uvJ_fxmu"
      },
      "outputs": [
        {
          "name": "stdout",
          "output_type": "stream",
          "text": [
            "my_list=[0, 1, 1, 1, 2, 2, 2, 3, 3, 3, 3, 4, 4, 4, 5, 5, 5, 6, 6, 6, 6, 7, 7, 7, 8, 8, 8, 9, 9, 9]\n",
            "set(my_list)={0, 1, 2, 3, 4, 5, 6, 7, 8, 9}\n"
          ]
        }
      ],
      "source": [
        "from math import ceil\n",
        "\n",
        "my_list = list(ceil(x * 0.3) for x in range(30))\n",
        "print(f\"{my_list=}\")\n",
        "print(f\"{set(my_list)=}\")"
      ]
    },
    {
      "cell_type": "markdown",
      "metadata": {
        "id": "tFNc1e20fyny"
      },
      "source": [
        "У множині усі елементи унікальні"
      ]
    },
    {
      "cell_type": "markdown",
      "metadata": {
        "id": "SRMkGizS1UwY"
      },
      "source": [
        "19. Створіть дві множини. Продемонстуйте над ними операції: обʼєднання, різниці, пересічі та симетричної різниці. Використовуйте методи, що не змінюють множини, а створюють нові."
      ]
    },
    {
      "cell_type": "code",
      "execution_count": 41,
      "metadata": {
        "id": "h0T-VuDnf3Ri"
      },
      "outputs": [
        {
          "name": "stdout",
          "output_type": "stream",
          "text": [
            "set_1={1, 2, 3, 4, 5, 6, 7}\n",
            "set_2={4, 5, 6, 7, 8, 9, 10}\n",
            "union={1, 2, 3, 4, 5, 6, 7, 8, 9, 10}\n",
            "diff={1, 2, 3}\n",
            "intersection={4, 5, 6, 7}\n",
            "sym_diff={1, 2, 3, 8, 9, 10}\n"
          ]
        }
      ],
      "source": [
        "set_1 = {1, 2, 3, 4, 5, 6, 7}\n",
        "set_2 = {4, 5, 6, 7, 8, 9, 10}\n",
        "\n",
        "print(f\"{set_1=}\")\n",
        "print(f\"{set_2=}\")\n",
        "\n",
        "union = set_1.union(set_2)\n",
        "print(f\"{union=}\")\n",
        "diff = set_1.difference(set_2)\n",
        "print(f\"{diff=}\")\n",
        "intersection = set_1.intersection(set_2)\n",
        "print(f\"{intersection=}\")\n",
        "sym_diff = set_1.symmetric_difference(set_2)\n",
        "print(f\"{sym_diff=}\")"
      ]
    },
    {
      "cell_type": "markdown",
      "metadata": {
        "id": "kWc8gkzTx7Ea"
      },
      "source": [
        "# VII. Словники (Dictionary)."
      ]
    },
    {
      "cell_type": "markdown",
      "metadata": {
        "id": "i5FLwj-B2ybQ"
      },
      "source": [
        "20. Створіть пустий словник. До нього додайте чотири пари елементів такі, щоб їхні ключі були різних типів. Чи може список бути ключем? Чому?"
      ]
    },
    {
      "cell_type": "code",
      "execution_count": 44,
      "metadata": {
        "id": "hxgv3BzrgLAV"
      },
      "outputs": [
        {
          "name": "stdout",
          "output_type": "stream",
          "text": [
            "new_dict={True: False, (9, 't'): '9', 2: '0', '666': 777}\n"
          ]
        }
      ],
      "source": [
        "new_dict = {}\n",
        "new_dict[True] = False\n",
        "new_dict[(9, \"t\")] = \"9\"\n",
        "new_dict[2] = \"0\"\n",
        "new_dict[\"666\"] = 777\n",
        "print(f\"{new_dict=}\")"
      ]
    },
    {
      "cell_type": "markdown",
      "metadata": {
        "id": "zwa7UVN-gR3m"
      },
      "source": [
        "Не можемо хешувати список, щоб визначити його індекс у хеш таблиці. А хешувати не можемо, бо як? Ми можемо змінити елементи, тоді змінемо хеш, тоді який сенс?"
      ]
    },
    {
      "cell_type": "markdown",
      "metadata": {
        "id": "WM_pMlJsgoNf"
      },
      "source": [
        "21. Створіть словник, де значенням в одній з пар теж буде словник, який теж має вкладений словник. Виведіть на екран значення, що міститься в словнику, що знаходиться на найнижчому рівні ієрархії вкладеності (найбільш внутрішній)."
      ]
    },
    {
      "cell_type": "code",
      "execution_count": 49,
      "metadata": {
        "id": "60dlP7IHhAy4"
      },
      "outputs": [
        {
          "name": "stdout",
          "output_type": "stream",
          "text": [
            "out={1: {2: {3: '000000', 4: '65656565'}}}\n",
            "out[1][2].items()=dict_items([(3, '000000'), (4, '65656565')])\n"
          ]
        }
      ],
      "source": [
        "out = {\n",
        "    1: {\n",
        "        2: {\n",
        "            3: \"000000\",\n",
        "            4: \"65656565\"\n",
        "        }\n",
        "    }\n",
        "} \n",
        "print(f\"{out=}\")\n",
        "print(f\"{out[1][2].items()=}\")"
      ]
    },
    {
      "cell_type": "markdown",
      "metadata": {
        "id": "xOZP0hkx6cCr"
      },
      "source": [
        "# Вітаю! Ви велика(ий) молодець, що впоралась(вся). Похваліть себе та побалуйте чимось приємним. Я Вами пишаюся."
      ]
    }
  ],
  "metadata": {
    "colab": {
      "provenance": []
    },
    "kernelspec": {
      "display_name": "venv",
      "language": "python",
      "name": "python3"
    },
    "language_info": {
      "codemirror_mode": {
        "name": "ipython",
        "version": 3
      },
      "file_extension": ".py",
      "mimetype": "text/x-python",
      "name": "python",
      "nbconvert_exporter": "python",
      "pygments_lexer": "ipython3",
      "version": "3.11.11"
    }
  },
  "nbformat": 4,
  "nbformat_minor": 0
}

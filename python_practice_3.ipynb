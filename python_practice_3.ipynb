{
  "cells": [
    {
      "cell_type": "markdown",
      "metadata": {
        "id": "qDEi2Pi-4yUC"
      },
      "source": [
        "# I. Оператори порівняння та логічні оператори. Умови."
      ]
    },
    {
      "cell_type": "markdown",
      "metadata": {
        "id": "3v8D4Dkm43Ua"
      },
      "source": [
        "1. (5б) Створіть цілочисленну змінну зі своїм щасливим або улюбленим числом. Напишіть код, який би автоматизовував наступну задачу.\n",
        "\n",
        "Якщо число парне, помножте його на 2 та виведіть результат на екран.\n",
        "\n",
        "Але якщо число непарне, помножте його на 3 та додайте 1 і виведіть на екран."
      ]
    },
    {
      "cell_type": "code",
      "execution_count": 8,
      "metadata": {
        "id": "dlVjc-Nu4bmb"
      },
      "outputs": [],
      "source": [
        "def process_number(number: int) -> int:\n",
        "    if not number % 2:\n",
        "        return number * 2\n",
        "    return number * 3 + 1"
      ]
    },
    {
      "cell_type": "code",
      "execution_count": 10,
      "metadata": {},
      "outputs": [
        {
          "name": "stdout",
          "output_type": "stream",
          "text": [
            "256 -> 512\n",
            "255 -> 766\n"
          ]
        }
      ],
      "source": [
        "my_favorite_number = 256\n",
        "\n",
        "result = process_number(my_favorite_number)\n",
        "print(my_favorite_number, \"->\", result)\n",
        "\n",
        "my_another_favorite_number = 255\n",
        "result = process_number(my_another_favorite_number)\n",
        "print(my_another_favorite_number, \"->\", result)"
      ]
    },
    {
      "cell_type": "markdown",
      "metadata": {
        "id": "H669P0QK5BI_"
      },
      "source": [
        "2. (9б) Створіть змінну, що посилається на список. Якщо список пустий, додайте будь-який елемент у кінець списку. Якщо ж ні, то нічого не робіть."
      ]
    },
    {
      "cell_type": "code",
      "execution_count": 11,
      "metadata": {},
      "outputs": [],
      "source": [
        "from typing import Any"
      ]
    },
    {
      "cell_type": "code",
      "execution_count": 12,
      "metadata": {
        "id": "ecWlfra45f6E"
      },
      "outputs": [],
      "source": [
        "def append_to_list_if_empty(lst: list, obj: Any) -> None:\n",
        "    if len(lst) == 0:\n",
        "        lst.append(obj)"
      ]
    },
    {
      "cell_type": "code",
      "execution_count": 13,
      "metadata": {},
      "outputs": [
        {
          "name": "stdout",
          "output_type": "stream",
          "text": [
            "['This message is in the list']\n"
          ]
        }
      ],
      "source": [
        "reference_to_list = list()\n",
        "\n",
        "append_to_list_if_empty(reference_to_list, \"This message is in the list\")\n",
        "append_to_list_if_empty(reference_to_list, \"This message is not in the list\")\n",
        "append_to_list_if_empty(reference_to_list, \"This message is also not in the list\")\n",
        "\n",
        "print(reference_to_list)"
      ]
    },
    {
      "cell_type": "markdown",
      "metadata": {
        "id": "h9Y3cMUd5h85"
      },
      "source": [
        "3. (13б) Створіть рядок зі своїм імʼям латинкою. Напишіть код, який би автоматизовував наступну задачу.\n",
        "\n",
        "Якщо в імені є літера \"а\"\n",
        " або \"i\", Виведіть на екран повідомлення \"A or I is in the name\".\n",
        "\n",
        "\n",
        "\n",
        "Якщо в імені є літери \"o\" та \"n\", Виведіть на екран повідомлення \"O and N is in the name\".\n",
        "\n",
        "Також якщо в імені немає літери \"о\", але є \"n\", Виведіть на екран повідомлення \"Only N is in the name\".\n",
        "\n",
        "В решті випадків виведіть на екран повідомлення \"There is no N in the name, but there might be O\".\n",
        "\n",
        "Зверніть увагу, що, наприклад, для імені \"Antonina\" буде виведено два повідомлення."
      ]
    },
    {
      "cell_type": "code",
      "execution_count": 14,
      "metadata": {
        "id": "bUH4LUx35u52"
      },
      "outputs": [],
      "source": [
        "def get_messages_describe_name(name: str) -> list[str]:\n",
        "    messages = []\n",
        "    name = name.lower()\n",
        "    if 'a' in name or 'i' in name:\n",
        "        messages.append(\"A or I is in the name\")\n",
        "    if 'o' in name and 'n' in name:\n",
        "        messages.append(\"O and N is in the name\")\n",
        "    elif 'o' not in name and 'n' in name:\n",
        "        messages.append(\"Only N is in the name\")\n",
        "    else:\n",
        "        messages.append(\"There is no N in the name, but there might be O\")\n",
        "    return messages"
      ]
    },
    {
      "cell_type": "code",
      "execution_count": 16,
      "metadata": {},
      "outputs": [
        {
          "name": "stdout",
          "output_type": "stream",
          "text": [
            "A or I is in the name\n",
            "There is no N in the name, but there might be O\n"
          ]
        }
      ],
      "source": [
        "my_name = \"Artur\"\n",
        "messages = get_messages_describe_name(my_name)\n",
        "for message in messages:\n",
        "    print(message)"
      ]
    },
    {
      "cell_type": "markdown",
      "metadata": {
        "id": "wPCXJv4354cU"
      },
      "source": [
        "# II. Comprehensions."
      ]
    },
    {
      "cell_type": "markdown",
      "metadata": {
        "id": "jULLW5jN55Pw"
      },
      "source": [
        "4. (5б) Створіть список, використовуючи if (не if-else), range та comprehension."
      ]
    },
    {
      "cell_type": "code",
      "execution_count": 18,
      "metadata": {
        "id": "mlZalnVC6W3F"
      },
      "outputs": [
        {
          "name": "stdout",
          "output_type": "stream",
          "text": [
            "[11, 22, 33, 44, 55, 66, 77, 88, 99]\n"
          ]
        }
      ],
      "source": [
        "generated_list = [x for x in range(1, 100) if x % 11 == 0]\n",
        "print(generated_list)"
      ]
    },
    {
      "cell_type": "markdown",
      "metadata": {
        "id": "LqhEQ4JW6XcC"
      },
      "source": [
        "5. (9б) Створіть словник, використовуючи dict comprehension, що містить if else. Коли слід використовувати comprehensions, а коли їх слід уникати?"
      ]
    },
    {
      "cell_type": "code",
      "execution_count": 23,
      "metadata": {},
      "outputs": [],
      "source": [
        "from math import floor, ceil, sqrt"
      ]
    },
    {
      "cell_type": "code",
      "execution_count": 25,
      "metadata": {
        "id": "1yVaFbOs6hta"
      },
      "outputs": [
        {
          "name": "stdout",
          "output_type": "stream",
          "text": [
            "{0: 0, 1: 1, 4: 2, 9: 3, 16: 4, 25: 5, 36: 6, 49: 7, 64: 8, 81: 9, 100: 10, 121: 11, 144: 12, 169: 13, 196: 14, 225: 15, 256: 16, 289: 17, 324: 18, 361: 19, 400: 20, 441: 21, 484: 22, 529: 23, 576: 24, 625: 25, 676: 26, 729: 27, 784: 28, 841: 29, 900: 30, 961: 31}\n"
          ]
        }
      ],
      "source": [
        "generated_dict = {\n",
        "    x: ceil(sqrt(x)) for x in range(1000) if ceil(sqrt(x)) == floor(sqrt(x))\n",
        "}\n",
        "print(generated_dict)"
      ]
    },
    {
      "cell_type": "markdown",
      "metadata": {
        "id": "wbkzNhKq6hzz"
      },
      "source": [
        "*місце для відповіді"
      ]
    },
    {
      "cell_type": "markdown",
      "metadata": {
        "id": "ZlqB8G3G6lHP"
      },
      "source": [
        "6. (9б) Створіть список з рядками та запишіть його у змінну. Створіть ще один список на основі попереднього, де кожен рядок буде містити тільки три перших заглавних символи. Наприклад: ['hello', 'i', 'dont', 'care'] -> ['HEL', 'I', 'DON', 'CAR']. Використання comprehensions обовʼязкове."
      ]
    },
    {
      "cell_type": "code",
      "execution_count": 34,
      "metadata": {
        "id": "nw6rz0bR60VC"
      },
      "outputs": [],
      "source": [
        "def message_list_capitalizer(messages: list[str]) -> list[str]:\n",
        "    max_index = 3\n",
        "    new_list = list()\n",
        "    for message in messages:\n",
        "        to_index = min(len(message), max_index)\n",
        "        new_list.append(message[:to_index].upper())\n",
        "    return new_list"
      ]
    },
    {
      "cell_type": "code",
      "execution_count": 35,
      "metadata": {},
      "outputs": [
        {
          "name": "stdout",
          "output_type": "stream",
          "text": [
            "['hello', 'i', 'dont', 'care'] -> ['HEL', 'I', 'DON', 'CAR']\n"
          ]
        }
      ],
      "source": [
        "messages = ['hello', 'i', 'dont', 'care']\n",
        "new_messages = message_list_capitalizer(messages)\n",
        "print(messages, \"->\", new_messages)"
      ]
    },
    {
      "cell_type": "markdown",
      "metadata": {
        "id": "Tj573IAH64Fz"
      },
      "source": [
        "# III. Цикли."
      ]
    },
    {
      "cell_type": "markdown",
      "metadata": {
        "id": "tN_33xdE65H5"
      },
      "source": [
        "7. (5б) Продемонструйте роботу циклу while. Не можна використовувати True для запуску циклу, щоб уникнути безкінечного циклу!"
      ]
    },
    {
      "cell_type": "code",
      "execution_count": 37,
      "metadata": {
        "id": "Kd9FO6yG63P5"
      },
      "outputs": [],
      "source": [
        "def int_to_bin_str(n: int) -> str:\n",
        "    if n == 0:\n",
        "        return \"0\"\n",
        "    \n",
        "    result = \"\"\n",
        "    while n > 0:\n",
        "        result = str(n % 2) + result\n",
        "        n //= 2\n",
        "    \n",
        "    return result"
      ]
    },
    {
      "cell_type": "code",
      "execution_count": 39,
      "metadata": {},
      "outputs": [
        {
          "name": "stdout",
          "output_type": "stream",
          "text": [
            "15 -> 1111\n",
            "17 -> 10001\n"
          ]
        }
      ],
      "source": [
        "number = 15 #0b1111\n",
        "bits = int_to_bin_str(number)\n",
        "print(number, \"->\", bits)\n",
        "\n",
        "number = 17 #0b10001\n",
        "bits = int_to_bin_str(number)\n",
        "print(number, \"->\", bits)"
      ]
    },
    {
      "cell_type": "markdown",
      "metadata": {
        "id": "x2CmfZO-7pW0"
      },
      "source": [
        "8. (5б) Напишіть програму, яка виведе на екран непарні числа в діапазоні від 0 до 20 включно."
      ]
    },
    {
      "cell_type": "code",
      "execution_count": 42,
      "metadata": {
        "id": "aCSRYA6s7tkF"
      },
      "outputs": [],
      "source": [
        "def odd_numbers_from_to(from_: int, to: int) -> tuple[int]:\n",
        "    return tuple((x for x in range(from_, to + 1) if x % 2))"
      ]
    },
    {
      "cell_type": "code",
      "execution_count": 43,
      "metadata": {},
      "outputs": [
        {
          "name": "stdout",
          "output_type": "stream",
          "text": [
            "(1, 3, 5, 7, 9, 11, 13, 15, 17, 19)\n"
          ]
        }
      ],
      "source": [
        "print(odd_numbers_from_to(0, 20))"
      ]
    },
    {
      "cell_type": "markdown",
      "metadata": {
        "id": "MDWNocZD7t_B"
      },
      "source": [
        "9. (13б) Створіть список з елементами булевого типу або None. Використовуючи цикли, отримайте в результаті список з кортежами, де перший елемент кортежу - індекс(ціле число), а другий елемент - відповідне значення з першого списку.\n",
        "\n",
        "Наприклад, [True, True, None, False] -> [(0, True), (1, True), (2, None), (3, False)]"
      ]
    },
    {
      "cell_type": "code",
      "execution_count": 45,
      "metadata": {
        "id": "0EUyjMdp7yfh"
      },
      "outputs": [
        {
          "name": "stdout",
          "output_type": "stream",
          "text": [
            "[(0, True), (1, True), (2, None), (3, False)]\n"
          ]
        }
      ],
      "source": [
        "lst = [True, True, None, False]\n",
        "print(list(enumerate(lst)))"
      ]
    },
    {
      "cell_type": "markdown",
      "metadata": {
        "id": "-6XUqlcG7zKs"
      },
      "source": [
        "10. (9б) Створіть словник, де ключі - назви книжок, а значення - їхня кількість у наявності в Вашій міні-бібліотеці. Бібліотека має містити щонайменше 6 книжок (6 пар значень у словнику) і щонайбільше 10 (пар значень). Використовуючи цикли, оновіть словник (не створюйте новий) так, щоби кількість книг у наявності збільшилося на 5 кожної книги. Наприклад,\n",
        "{'It': 3, 'Fault stars': 10, 'Bible': 17, 'Psychological romance': 4, 'Harry Potter': 13} -> {'It': 8, 'Fault stars': 15, 'Bible': 22, 'Psychological romance': 9, 'Harry Potter': 18}"
      ]
    },
    {
      "cell_type": "code",
      "execution_count": null,
      "metadata": {
        "id": "Ceoj9wwb791q"
      },
      "outputs": [],
      "source": []
    },
    {
      "cell_type": "markdown",
      "metadata": {
        "id": "QLzyJM288AC7"
      },
      "source": [
        "11. (5б) Визначте цілочислену змінну n, що належить проміжку від 4 до 10 включно. Використовуючи цикли, виведіть в консоль наступний патерн.\n",
        "\n",
        "#\n",
        "##\n",
        "###\n",
        "####\n",
        "\n",
        "... #*n\n"
      ]
    },
    {
      "cell_type": "code",
      "execution_count": 46,
      "metadata": {
        "id": "KOpng87s8Duz"
      },
      "outputs": [
        {
          "name": "stdout",
          "output_type": "stream",
          "text": [
            "#######\n"
          ]
        }
      ],
      "source": [
        "n = 7\n",
        "print(\"#\" * n)"
      ]
    },
    {
      "cell_type": "markdown",
      "metadata": {
        "id": "_bd-bqAT8EHn"
      },
      "source": [
        "12. (13б) Гра \"Нумо вгадай\".\n",
        "Розробіть просту гру, де користувач має вгадати випадкове число від 1 до 100. Для генерації випадкового числа використовуйте функцію random.randint(a, b) (тут a та b включно). Для отримання числа з консолі використовуйте функцію input(), результат якої обовʼязково явно приведіть до типу int.\n",
        "\n",
        "Підказка: використовуйте цикл while та умови if-else, щоб повідомити користувачу піказки (напр. \"Більше\", \"Менше\") поки користувач не вгадає. По завершенню виведіть кількість спроб, які знадобилися для вгадування."
      ]
    },
    {
      "cell_type": "code",
      "execution_count": 49,
      "metadata": {
        "id": "IK9nnxFK8Hkl"
      },
      "outputs": [],
      "source": [
        "import random"
      ]
    },
    {
      "cell_type": "code",
      "execution_count": 51,
      "metadata": {},
      "outputs": [],
      "source": [
        "def guess_the_number():\n",
        "    target = random.randint(1, 100)\n",
        "    attempts = 0\n",
        "    guess = -1 \n",
        "\n",
        "    print(\"Guess the number from 1 to 100\")\n",
        "\n",
        "    while guess != target:\n",
        "        try:\n",
        "            guess = int(input(\"Write number: \"))\n",
        "            attempts += 1\n",
        "\n",
        "            if guess < target:\n",
        "                print(\"More!\")\n",
        "            elif guess > target:\n",
        "                print(\"Less!\")\n",
        "            else:\n",
        "                print(f\"Congratulations! You guessed the number {target} by {attempts} attempts.\")\n",
        "        except ValueError:\n",
        "            print(\"Write int from 1 to 100\")"
      ]
    },
    {
      "cell_type": "code",
      "execution_count": 54,
      "metadata": {},
      "outputs": [
        {
          "name": "stdout",
          "output_type": "stream",
          "text": [
            "Guess the number from 1 to 100\n",
            "Less!\n",
            "Less!\n",
            "Less!\n",
            "Congratulations! You guessed the number 12 by 4 attempts.\n"
          ]
        }
      ],
      "source": [
        "# guess_the_number()\n"
      ]
    },
    {
      "cell_type": "markdown",
      "metadata": {},
      "source": []
    },
    {
      "cell_type": "markdown",
      "metadata": {
        "id": "PXoXWb7Z8IGi"
      },
      "source": [
        "# Вітаю! Ви велика(ий) молодець, що впоралась(вся). Похваліть себе та побалуйте чимось приємним. Я Вами пишаюся."
      ]
    }
  ],
  "metadata": {
    "colab": {
      "provenance": []
    },
    "kernelspec": {
      "display_name": "venv",
      "language": "python",
      "name": "python3"
    },
    "language_info": {
      "codemirror_mode": {
        "name": "ipython",
        "version": 3
      },
      "file_extension": ".py",
      "mimetype": "text/x-python",
      "name": "python",
      "nbconvert_exporter": "python",
      "pygments_lexer": "ipython3",
      "version": "3.11.11"
    }
  },
  "nbformat": 4,
  "nbformat_minor": 0
}

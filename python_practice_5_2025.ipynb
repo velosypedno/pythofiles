{
  "cells": [
    {
      "cell_type": "markdown",
      "metadata": {
        "id": "5qV_sehzFCTp"
      },
      "source": [
        "# I. OOP"
      ]
    },
    {
      "cell_type": "markdown",
      "metadata": {
        "id": "tx_U_hOALyfg"
      },
      "source": [
        "1. (6б). Створіть клас Building, додайте три атрибути, один з яких має значення за замовчуванням та два методи на свій розсуд."
      ]
    },
    {
      "cell_type": "code",
      "execution_count": 82,
      "metadata": {
        "id": "-Vf895KaL88N"
      },
      "outputs": [],
      "source": [
        "from enum import Enum\n",
        "\n",
        "\n",
        "class Purpose(Enum):\n",
        "    COMMERCIAL = \"COMMERCIAL\"\n",
        "    RESIDENTIAL = \"RESIDENTIAL\"\n",
        "    GOVERNMENT = \"GOVERNMENT\"\n",
        "    INDUSTRIAL = \"INDUSTRIAL\"\n",
        "    AGRICULTURAL = \"AGRICULTURAL\"\n",
        "\n",
        "\n",
        "class Building:\n",
        "    def __init__(self, height: float, floors: int, name: str, purpose: Purpose = Purpose.COMMERCIAL):\n",
        "        self.__height = height\n",
        "        self.__name = name\n",
        "        self.__purpose = purpose\n",
        "        self.__floors = floors\n",
        "        self.__floor_height = height / floors\n",
        "    \n",
        "    def get_height(self) -> float:\n",
        "        return self.__height\n",
        "    \n",
        "    def get_name(self) -> str:\n",
        "        return self.__name\n",
        "    \n",
        "    def get_purpose(self) -> str:\n",
        "        return self.__purpose\n",
        "    \n",
        "    def get_floors(self) -> int:\n",
        "        return self.__floors\n",
        "    \n",
        "    def add_floor(self):\n",
        "        self.__height += self.__floor_height\n",
        "        self.__floors += 1"
      ]
    },
    {
      "cell_type": "markdown",
      "metadata": {
        "id": "X_UlOMB0L93w"
      },
      "source": [
        "2. (2б). Створіть два обʼєкти цього класу, де один з обʼєктів створюється із дефолтним значенням атрибуту. На одному обʼєкті отримайте значення його атрибуту, а на іншому викличте один з його методів."
      ]
    },
    {
      "cell_type": "code",
      "execution_count": 83,
      "metadata": {
        "id": "7gBu0ESOMCpG"
      },
      "outputs": [
        {
          "name": "stdout",
          "output_type": "stream",
          "text": [
            "Exception: mall has no attribute __floors, but actually it has attribute floors\n",
            "Floors of mall: 5\n",
            "\n",
            "Height of min_defense: 120\n",
            "Height of min_defense after adding floor: 144.0\n",
            "Floors of min_defense after adding floor: 6\n"
          ]
        }
      ],
      "source": [
        "mall = Building(100, 5, \"Ocean Plaza\")\n",
        "try:\n",
        "    mall.__floors\n",
        "except AttributeError:\n",
        "    print(\"Exception: mall has no attribute __floors, but actually it has attribute floors\")\n",
        "    print(\"Floors of mall:\", mall.get_floors())\n",
        "\n",
        "print()\n",
        "\n",
        "min_defense = Building(120, 5, \"Ministry of Defense\", Purpose.GOVERNMENT)\n",
        "print(\"Height of min_defense:\", min_defense.get_height())\n",
        "\n",
        "min_defense.add_floor()\n",
        "print(\"Height of min_defense after adding floor:\", min_defense.get_height())\n",
        "print(\"Floors of min_defense after adding floor:\", min_defense.get_floors())"
      ]
    },
    {
      "cell_type": "markdown",
      "metadata": {
        "id": "HoqSCZt1MHn5"
      },
      "source": [
        "3. (5б). Створіть клас, де атрибути мають різні рівні доступу. Спробуйте отримати їхні значення та опишіть результати."
      ]
    },
    {
      "cell_type": "code",
      "execution_count": 84,
      "metadata": {
        "id": "r9b3vJxBMSPV"
      },
      "outputs": [],
      "source": [
        "class Stub:\n",
        "    def __init__(self, x: int, y: int, z: int):\n",
        "        self.x = x \n",
        "        self._y = y    \n",
        "        self.__z = z"
      ]
    },
    {
      "cell_type": "code",
      "execution_count": 85,
      "metadata": {},
      "outputs": [
        {
          "name": "stdout",
          "output_type": "stream",
          "text": [
            "1\n",
            "2\n",
            "Exception: stub has no attribute __z, but actually it has attribute __z\n"
          ]
        }
      ],
      "source": [
        "stub = Stub(1, 2, 3)\n",
        "print(stub.x)\n",
        "print(stub._y)\n",
        "try:\n",
        "    print(stub.__z)\n",
        "except AttributeError:\n",
        "    print(\"Exception: stub has no attribute __z, but actually it has attribute __z\")\n"
      ]
    },
    {
      "cell_type": "markdown",
      "metadata": {
        "id": "5op2m2vgMSkZ"
      },
      "source": [
        "4. (7б). Як ви розумієте термін self? Для чого використовується метод __init __?"
      ]
    },
    {
      "cell_type": "markdown",
      "metadata": {
        "id": "DyiPqNRvMasx"
      },
      "source": [
        "self - об'єкт цього класу\n",
        "\n",
        "__init__ - конструктор"
      ]
    },
    {
      "cell_type": "markdown",
      "metadata": {
        "id": "-6X8EGfjMd2y"
      },
      "source": [
        "5. (9б). Створіть клас 3D-фігура без атрибутів, з методом get_volume для отримання об'єму фігури, що повертає 0 та __add __, який приймає self та other в якості аргументів, а повертає суму об'ємів 3d-фігур self та other."
      ]
    },
    {
      "cell_type": "code",
      "execution_count": 86,
      "metadata": {
        "id": "4rvO_wYUMaEr"
      },
      "outputs": [],
      "source": [
        "class Figure:\n",
        "    def get_volume(self) -> float:\n",
        "        return 0\n",
        "    \n",
        "    def __add__(self, other: 'Figure'):\n",
        "        return self.get_volume() + other.get_volume()"
      ]
    },
    {
      "cell_type": "markdown",
      "metadata": {
        "id": "SFcKnnv5Mo_z"
      },
      "source": [
        "6. (11б). Створіть 2 дочірніх класи від 3d-фігура: Циліндр та Куб, які мають атрибути, необхідні для розрахунку об'єму. Визначте метод get_volume в кожному з них так, щоби вони розраховували об'єм у залежності від формули для кожного типу фігури. Створіть обʼєкт класу Циліндр та обʼєкт класу Куб. Виконайте операцію суми за допомогою оператора + між ними, аби знайти сумарний об'єм."
      ]
    },
    {
      "cell_type": "code",
      "execution_count": 87,
      "metadata": {
        "id": "H3GVNr69Muf3"
      },
      "outputs": [
        {
          "name": "stdout",
          "output_type": "stream",
          "text": [
            "121.04\n"
          ]
        }
      ],
      "source": [
        "class Cube(Figure):\n",
        "    def __init__(self, side: float):\n",
        "        self.__side = side\n",
        "    \n",
        "    def get_volume(self) -> float:\n",
        "        return self.__side ** 3\n",
        "    \n",
        "    \n",
        "class Cylinder(Figure):\n",
        "    def __init__(self, radius: float, height: float):\n",
        "        self.__radius = radius\n",
        "        self.__height = height\n",
        "    \n",
        "    def get_volume(self) -> float:\n",
        "        return 3.14 * self.__radius ** 2 * self.__height\n",
        "    \n",
        "cube = Cube(2)\n",
        "cylinder = Cylinder(3, 4)\n",
        "print(cube + cylinder)"
      ]
    },
    {
      "cell_type": "markdown",
      "metadata": {
        "id": "HCvR206YMvLK"
      },
      "source": [
        "7. (3б). Продемонструйте різницю між isinstance та issubclass."
      ]
    },
    {
      "cell_type": "code",
      "execution_count": 88,
      "metadata": {
        "id": "L_V1bBvDM0GN"
      },
      "outputs": [
        {
          "name": "stdout",
          "output_type": "stream",
          "text": [
            "isinstance(cube, Figure)=True\n",
            "isinstance(cylinder, Figure)=True\n",
            "isinstance(cube, Cube)=True\n",
            "isinstance(cylinder, Cylinder)=True\n",
            "isinstance(cube, Cylinder)=False\n",
            "isinstance(cylinder, Cube)=False\n",
            "\n",
            "issubclass(Cube, Figure)=True\n",
            "issubclass(Cylinder, Figure)=True\n",
            "issubclass(Cube, Cube)=True\n",
            "issubclass(Cylinder, Cylinder)=True\n",
            "issubclass(Cube, Cylinder)=False\n"
          ]
        }
      ],
      "source": [
        "print(f\"{isinstance(cube, Figure)=}\")\n",
        "print(f\"{isinstance(cylinder, Figure)=}\")\n",
        "print(f\"{isinstance(cube, Cube)=}\")\n",
        "print(f\"{isinstance(cylinder, Cylinder)=}\")\n",
        "print(f\"{isinstance(cube, Cylinder)=}\")\n",
        "print(f\"{isinstance(cylinder, Cube)=}\")\n",
        "\n",
        "print()\n",
        "\n",
        "print(f\"{issubclass(Cube, Figure)=}\")\n",
        "print(f\"{issubclass(Cylinder, Figure)=}\")\n",
        "print(f\"{issubclass(Cube, Cube)=}\")\n",
        "print(f\"{issubclass(Cylinder, Cylinder)=}\")\n",
        "print(f\"{issubclass(Cube, Cylinder)=}\")"
      ]
    },
    {
      "cell_type": "markdown",
      "metadata": {
        "id": "jjsaBZ-iM0Qq"
      },
      "source": [
        "8. (13б). Створіть клас EWallet з приватними атрибутами balance та id. Реалізуйте методи поповнення та зняття коштів, забезпечивши належну інкапсуляцію. Підказка: використовуйте декоратори property та setter."
      ]
    },
    {
      "cell_type": "code",
      "execution_count": 89,
      "metadata": {
        "id": "xCvZ7lh8M7YA"
      },
      "outputs": [],
      "source": [
        "class EWallet:\n",
        "    def __init__(self, balance: float, id: int):\n",
        "        self.__balance = balance\n",
        "        self.__id = id\n",
        "    \n",
        "    @property\n",
        "    def balance(self) -> float:\n",
        "        return self.__balance\n",
        "    \n",
        "    def withdraw(self, amount: float) -> bool:\n",
        "        if amount > self.__balance:\n",
        "            return False\n",
        "        self.__balance -= amount\n",
        "        return True\n",
        "    \n",
        "    def deposit(self, amount: float) -> None:\n",
        "        self.__balance += amount\n",
        "    "
      ]
    },
    {
      "cell_type": "code",
      "execution_count": 90,
      "metadata": {},
      "outputs": [
        {
          "name": "stdout",
          "output_type": "stream",
          "text": [
            "100\n",
            "50\n",
            "100\n",
            "Not enough money to withdraw 1000\n"
          ]
        }
      ],
      "source": [
        "my_wallet = EWallet(100, 1)\n",
        "print(my_wallet.balance)\n",
        "my_wallet.withdraw(50)\n",
        "print(my_wallet.balance)\n",
        "my_wallet.deposit(50)\n",
        "print(my_wallet.balance)\n",
        "result =  my_wallet.withdraw(1000)\n",
        "if not result:\n",
        "    print(\"Not enough money to withdraw 1000\")\n"
      ]
    },
    {
      "cell_type": "markdown",
      "metadata": {
        "id": "tIzL2SJTM8ft"
      },
      "source": [
        "9. (11б). Створіть клас ShoppingCart, який містить список об'єктів типу Item. Реалізуйте методи для додавання айтемів, їх видалення та відображення списку айтемів."
      ]
    },
    {
      "cell_type": "code",
      "execution_count": 91,
      "metadata": {
        "id": "HWxfJKLtNAUZ"
      },
      "outputs": [],
      "source": [
        "class Item:\n",
        "    __id_counter = 0\n",
        "    \n",
        "    def __init__(self, name: str, price: float):\n",
        "        Item.__id_counter += 1\n",
        "        self.id = Item.__id_counter\n",
        "        self.__name = name\n",
        "        self.__price = price\n",
        "    \n",
        "    @property\n",
        "    def name(self) -> str:\n",
        "        return self.__name\n",
        "    \n",
        "    @property\n",
        "    def price(self) -> float:\n",
        "        return self.__price\n",
        "\n",
        "    def __str__(self):\n",
        "        return f\"Item id: {self.id}, name: {self.name}, price: {self.price}\"\n",
        "\n",
        "\n",
        "class Product(Item):\n",
        "    def __init__(self, name: str):  \n",
        "        super().__init__(name, 50)  \n",
        "\n",
        "\n",
        "class Service(Item):\n",
        "    def __init__(self, name: str):\n",
        "        super().__init__(name, 100)\n",
        "\n",
        "\n",
        "class ShoppingCart:\n",
        "    def __init__(self):\n",
        "        self.__items = []\n",
        "    \n",
        "    def add_item(self, item: Item):\n",
        "        self.__items.append(item)\n",
        "    \n",
        "    def get_total_price(self) -> float:\n",
        "        total = 0\n",
        "        for item in self.__items:\n",
        "            total += item.price\n",
        "        return total\n",
        "\n",
        "    def remove_item_by_id(self, item_id: int):\n",
        "        for item in self.__items:\n",
        "            if item.id == item_id:\n",
        "                self.__items.remove(item)\n",
        "                return\n",
        "            \n",
        "    def __str__(self):\n",
        "        return \"\\n\".join(str(item) for item in self.__items)"
      ]
    },
    {
      "cell_type": "code",
      "execution_count": 92,
      "metadata": {},
      "outputs": [
        {
          "name": "stdout",
          "output_type": "stream",
          "text": [
            "Item id: 1, name: Potato, price: 50\n",
            "Item id: 2, name: Banana, price: 50\n",
            "Item id: 3, name: Cinema, price: 100\n",
            "200\n",
            "Item id: 1, name: Potato, price: 50\n",
            "Item id: 3, name: Cinema, price: 100\n",
            "150\n"
          ]
        }
      ],
      "source": [
        "potato = Product(\"Potato\")\n",
        "banana = Product(\"Banana\")\n",
        "\n",
        "cinema = Service(\"Cinema\")\n",
        "\n",
        "cart = ShoppingCart()\n",
        "cart.add_item(potato)\n",
        "cart.add_item(banana)\n",
        "cart.add_item(cinema)\n",
        "print(cart)\n",
        "print(cart.get_total_price())\n",
        "cart.remove_item_by_id(banana.id)\n",
        "print(cart)\n",
        "print(cart.get_total_price())"
      ]
    },
    {
      "cell_type": "markdown",
      "metadata": {
        "id": "lmV8pAwwNIqu"
      },
      "source": [
        "10. (13б). Створіть клас Vehicle з атрибутами brand (manufacturer) та production_age. Створіть ще один клас Engine з такими атрибутами, як type (ex. petrol) та size (volume, litres). Створіть клас Car, який успадковує обидва класи Vehicle та Engine. Продемонструйте використання множинної спадковості, створивши обʼєкт класу Car та отримавши mro для цього класу."
      ]
    },
    {
      "cell_type": "code",
      "execution_count": 93,
      "metadata": {
        "id": "R49grKlWNPeN"
      },
      "outputs": [
        {
          "name": "stdout",
          "output_type": "stream",
          "text": [
            "Vehicle Brand: Toyota, Age: 5 years\n",
            "Engine Type: Petrol, Size: 1.8 litres\n",
            "MRO for Car: (<class '__main__.Car'>, <class '__main__.Vehicle'>, <class '__main__.Engine'>, <class 'object'>)\n"
          ]
        }
      ],
      "source": [
        "class Vehicle:\n",
        "    def __init__(self, brand, production_age):\n",
        "        self.brand = brand\n",
        "        self.production_age = production_age\n",
        "\n",
        "    def display_info(self):\n",
        "        print(f\"Vehicle Brand: {self.brand}, Age: {self.production_age} years\")\n",
        "\n",
        "\n",
        "class Engine:\n",
        "    def __init__(self, engine_type, size):\n",
        "        self.engine_type = engine_type\n",
        "        self.size = size\n",
        "\n",
        "    def display_engine_info(self):\n",
        "        print(f\"Engine Type: {self.engine_type}, Size: {self.size} litres\")\n",
        "\n",
        "\n",
        "class Car(Vehicle, Engine):\n",
        "    def __init__(self, brand, production_age, engine_type, size):\n",
        "        Vehicle.__init__(self, brand, production_age)\n",
        "        Engine.__init__(self, engine_type, size)\n",
        "\n",
        "    def display_car_info(self):\n",
        "        self.display_info()\n",
        "        self.display_engine_info()\n",
        "\n",
        "\n",
        "my_car = Car(\"Toyota\", 5, \"Petrol\", 1.8)\n",
        "my_car.display_car_info()\n",
        "\n",
        "print(\"MRO for Car:\", Car.__mro__)\n"
      ]
    },
    {
      "cell_type": "markdown",
      "metadata": {
        "id": "dIJyUiNBFG8G"
      },
      "source": [
        "# II. Iterator"
      ]
    },
    {
      "cell_type": "markdown",
      "metadata": {
        "id": "13vsm0NyKIzL"
      },
      "source": [
        "11. (4б). Визначте рядок(str) з 4ма різними за значенням символами. Створіть ітератор на основі цього рядка. Викличте 5 разів функцію next на ітераторі, 4ри перших з них огорніть у ф-цію print()."
      ]
    },
    {
      "cell_type": "code",
      "execution_count": 94,
      "metadata": {
        "id": "81ntabAkKuz-"
      },
      "outputs": [
        {
          "name": "stdout",
          "output_type": "stream",
          "text": [
            "a\n",
            "b\n",
            "c\n",
            "d\n",
            "StopIteration\n"
          ]
        }
      ],
      "source": [
        "s = \"abcd\" \n",
        "iterator = iter(s) \n",
        "\n",
        "print(next(iterator)) \n",
        "print(next(iterator))  \n",
        "print(next(iterator))  \n",
        "print(next(iterator))  \n",
        "try:\n",
        "    next(iterator)\n",
        "except StopIteration:\n",
        "    print(\"StopIteration\")\n"
      ]
    },
    {
      "cell_type": "markdown",
      "metadata": {
        "id": "aekWHGXOLRsO"
      },
      "source": [
        "А що якщо викликати цю ж функцію на рядку?"
      ]
    },
    {
      "cell_type": "code",
      "execution_count": 95,
      "metadata": {
        "id": "mxATGsErLV1i"
      },
      "outputs": [
        {
          "name": "stdout",
          "output_type": "stream",
          "text": [
            "TypeError, 'str' object is not an iterator\n"
          ]
        }
      ],
      "source": [
        "iterator = \"abcd\" \n",
        "\n",
        "try:\n",
        "    next(iterator) \n",
        "except TypeError:\n",
        "    print(\"TypeError, 'str' object is not an iterator\")\n",
        "# str does not have an __next__ method"
      ]
    },
    {
      "cell_type": "markdown",
      "metadata": {
        "id": "XwtMEopwJ4pH"
      },
      "source": [
        " 12. (5б). Опишіть своїми словами в одному реченні, як ви розумієте різницю між ітерабельними обʼєктами та ітераторами (можна на прикладі)."
      ]
    },
    {
      "cell_type": "markdown",
      "metadata": {
        "id": "-sHrODc3KFn8"
      },
      "source": [
        "ітератор іде по ітерованому об'єкту, ітерований об'єкт може ітеруватися"
      ]
    },
    {
      "cell_type": "markdown",
      "metadata": {
        "id": "E9qJWmNbK8Gl"
      },
      "source": [
        "13. (11б). Створіть клас, що має визначений Iterator Protocol та при кожному виклику next повертає назву дня тижня, поки вони не вичерпаються. Зверніть увагу, що порядок має значення."
      ]
    },
    {
      "cell_type": "code",
      "execution_count": 96,
      "metadata": {
        "id": "cqx-g_RsLo6I"
      },
      "outputs": [],
      "source": [
        "from enum import Enum\n",
        "from typing import Iterator\n",
        "\n",
        "class Day(Enum):\n",
        "    MONDAY = 0\n",
        "    TUESDAY = 1\n",
        "    WEDNESDAY = 2\n",
        "    THURSDAY = 3\n",
        "    FRIDAY = 4\n",
        "    SATURDAY = 5\n",
        "    SUNDAY = 6\n",
        "    \n",
        "\n",
        "class DayIterator(Iterator):\n",
        "    def __init__(self):\n",
        "        self._day = Day.MONDAY\n",
        "        self._index = 0\n",
        "    \n",
        "    def __iter__(self):\n",
        "        return self\n",
        "    \n",
        "    def __next__(self):\n",
        "        if self._index > 6:\n",
        "            raise StopIteration\n",
        "        self._day = Day(self._index)\n",
        "        self._index += 1\n",
        "        return self._day"
      ]
    },
    {
      "cell_type": "code",
      "execution_count": 97,
      "metadata": {},
      "outputs": [
        {
          "name": "stdout",
          "output_type": "stream",
          "text": [
            "Day.MONDAY\n",
            "Day.TUESDAY\n",
            "Day.WEDNESDAY\n",
            "Day.THURSDAY\n",
            "Day.FRIDAY\n",
            "Day.SATURDAY\n",
            "Day.SUNDAY\n"
          ]
        }
      ],
      "source": [
        "for day in DayIterator():\n",
        "    print(day)"
      ]
    },
    {
      "cell_type": "markdown",
      "metadata": {
        "id": "Z3E3S_s1Fv7-"
      },
      "source": [
        "# Вітаю! Ви велика(ий) молодець, що впоралась(вся). Похваліть себе та побалуйте чимось приємним. Я Вами пишаюся."
      ]
    },
    {
      "cell_type": "markdown",
      "metadata": {},
      "source": []
    }
  ],
  "metadata": {
    "colab": {
      "provenance": []
    },
    "kernelspec": {
      "display_name": "venv",
      "language": "python",
      "name": "python3"
    },
    "language_info": {
      "codemirror_mode": {
        "name": "ipython",
        "version": 3
      },
      "file_extension": ".py",
      "mimetype": "text/x-python",
      "name": "python",
      "nbconvert_exporter": "python",
      "pygments_lexer": "ipython3",
      "version": "3.11.11"
    }
  },
  "nbformat": 4,
  "nbformat_minor": 0
}
